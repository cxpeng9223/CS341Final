{
 "cells": [
  {
   "cell_type": "code",
   "execution_count": 1,
   "metadata": {},
   "outputs": [],
   "source": [
    "import time\n",
    "import numpy as np\n",
    "import random\n",
    "import copy, sys\n",
    "\n",
    "from sklearn.neighbors import KNeighborsRegressor\n",
    "from sklearn.neighbors import KNeighborsClassifier\n",
    "from sklearn import linear_model\n",
    "from sklearn import ensemble\n",
    "from sklearn.metrics import roc_auc_score\n",
    "from sklearn import preprocessing\n",
    "\n",
    "from scipy import stats\n",
    "from numpy import linalg as LA"
   ]
  },
  {
   "cell_type": "code",
   "execution_count": 2,
   "metadata": {},
   "outputs": [],
   "source": [
    "#Function to load the data file to memeory.\n",
    "\n",
    "#Input: File path to read.\n",
    "#Output: A 2d numpy array with all loaded samples from the file to read in string.\n",
    "\n",
    "def parseFile_raw(file):\n",
    "    time_start = time.time()\n",
    "\n",
    "    content = []\n",
    "    count, count_incomplete,count_complete, count_part = 0, 0, 0, 0\n",
    "    \n",
    "    with open(file) as txtfile:\n",
    "        for row in txtfile:\n",
    "            \n",
    "            row = row.split(',')\n",
    "            row[-1] = row[-1].strip()\n",
    "            count += 1\n",
    "            if count != 1:\n",
    "                content.append(row[:5])\n",
    "            #content.append([row[21]] + row[0:4] + [row[22]] + [row[32]] + [row[29]] + [row[6]] \\\n",
    "            #               + [row[-2]] + [row[-1]] + [row[12].strip(\"'\")])\n",
    "          \n",
    "            #if count == 1000:\n",
    "                #break\n",
    "\n",
    "    content_mat = np.array(content)\n",
    "\n",
    "    time_end = time.time()\n",
    "    print('Reading data is complete! Running time is ' + str(time_end - time_start) + 's!')\n",
    "\n",
    "    return content_mat\n",
    "\n",
    "\n",
    "#Function to filter the samples with no missing values. \n",
    "#Input: mat - 2d Numpy Array.\n",
    "#Onput: mat - 2d Numpy Array with all samples that have no Missing values.\n",
    "\n",
    "def filter_full_feature(mat):\n",
    "    row_count = 0\n",
    "    full_list = []\n",
    "    for row in mat:\n",
    "        if 'N/A' in row or 'NA' in row:\n",
    "            pass\n",
    "        else:\n",
    "            full_list.append(row_count)\n",
    "\n",
    "        row_count += 1\n",
    "    print('There are a total of ' + str(len(full_list)) + ' samples fed into the model')\n",
    "    mat = mat[full_list, :]\n",
    "    return mat"
   ]
  },
  {
   "cell_type": "code",
   "execution_count": 48,
   "metadata": {},
   "outputs": [],
   "source": [
    "def cf(mat, sim_user, feat, k):\n",
    "    mat += 0.01\n",
    "    sim_user += 0.01\n",
    "    n = sim_user.shape[0]\n",
    "    sim_user = np.concatenate((np.zeros((n,feat)), sim_user), axis=1)\n",
    "    cos_sim = sim_user.dot(mat.T) / LA.norm(sim_user) / LA.norm(mat,axis = 1)\n",
    "    \n",
    "    idx = np.flip( np.argsort(cos_sim) , 1)[:,:k]\n",
    "    tmp = np.flip( np.sort(cos_sim), 1)[:,:k]\n",
    "    \n",
    "    print(mat[idx,:][0].shape)\n",
    "    print(stats.mode(mat[idx,:][0], axis = 0)[0][0][:3])\n",
    "    print(sim_user.shape)\n",
    "    sim_user[0,:3] = stats.mode(mat[idx,:][0], axis = 0)[0][0][:3]\n",
    "    print(sim_user)\n",
    "#     for i in range(feat):\n",
    "#         print(\"val: \", mat[idx,i])\n",
    "#         print(mat[idx,i])\n",
    "#         print(stats.mode(mat[idx,i], axis = 1)[0].T[0])\n",
    "#         sim_user[:,i] = np.sum(mat[idx,i] * tmp, axis = 1)\n",
    "#         sim_user[:, i] = stats.mode(mat[idx,i], axis = 1)[0].T[0]\n",
    "        \n",
    "    sim_user = (sim_user - 0.01).astype(int)\n",
    "    return sim_user"
   ]
  },
  {
   "cell_type": "code",
   "execution_count": 49,
   "metadata": {},
   "outputs": [
    {
     "name": "stdout",
     "output_type": "stream",
     "text": [
      "Reading data is complete! Running time is 0.0005006790161132812s!\n",
      "There are a total of 64 samples fed into the model\n",
      "(64, 5)\n",
      "(10, 5)\n",
      "[ 1.01 -0.99  7.01]\n",
      "(1, 5)\n",
      "[[ 1.01 -0.99  7.01  8.01  1.01]]\n",
      "[[ 1 -1  7  8  1]]\n"
     ]
    }
   ],
   "source": [
    "def main():\n",
    "    mat = filter_full_feature(parseFile_raw('test_small.csv'))\n",
    "    mat = mat.astype(float)\n",
    "    print(mat.shape)\n",
    "    sim_user = np.array([[8,8,1]]).astype(float)\n",
    "    feat, k = 2, 10\n",
    "    \n",
    "    print(cf(mat,sim_user,feat,k)) #,want 2 new features, k nearest users\n",
    "    \n",
    "    \n",
    "if __name__ == \"__main__\":    \n",
    "    main()\n",
    "    "
   ]
  },
  {
   "cell_type": "code",
   "execution_count": null,
   "metadata": {},
   "outputs": [],
   "source": []
  },
  {
   "cell_type": "code",
   "execution_count": null,
   "metadata": {},
   "outputs": [],
   "source": []
  }
 ],
 "metadata": {
  "kernelspec": {
   "display_name": "Python 3",
   "language": "python",
   "name": "python3"
  },
  "language_info": {
   "codemirror_mode": {
    "name": "ipython",
    "version": 3
   },
   "file_extension": ".py",
   "mimetype": "text/x-python",
   "name": "python",
   "nbconvert_exporter": "python",
   "pygments_lexer": "ipython3",
   "version": "3.6.4"
  }
 },
 "nbformat": 4,
 "nbformat_minor": 2
}
