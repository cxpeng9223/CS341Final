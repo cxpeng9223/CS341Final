{
 "cells": [
  {
   "cell_type": "code",
   "execution_count": 1,
   "metadata": {},
   "outputs": [],
   "source": [
    "import time\n",
    "import numpy as np\n",
    "import random\n",
    "import pandas as pd"
   ]
  },
  {
   "cell_type": "code",
   "execution_count": 2,
   "metadata": {},
   "outputs": [],
   "source": [
    "def parseFile(file):\n",
    "    time_start = time.time()\n",
    "\n",
    "    content = []\n",
    "    count, count_incomplete,count_complete, count_part = 0, 0, 0, 0\n",
    "\n",
    "    with open(file) as txtfile:\n",
    "        for row in txtfile:\n",
    "\n",
    "            row = row.split(',')\n",
    "            row[-1] = row[-1].strip()\n",
    "\n",
    "            if count == 0:\n",
    "                for i in range(len(row)):\n",
    "                    row[i] = row[i].strip('\"')\n",
    "\n",
    "            content.append(row)\n",
    "\n",
    "            count += 1\n",
    "\n",
    "    content_mat = np.array(content)\n",
    "\n",
    "    time_end = time.time()\n",
    "    print('Reading data is complete! Running time is ' + str(time_end - time_start) + 's!')\n",
    "    \n",
    "    return content_mat"
   ]
  },
  {
   "cell_type": "code",
   "execution_count": 3,
   "metadata": {},
   "outputs": [],
   "source": [
    "def filter_full_feature(mat):\n",
    "    # remove all rows with missing value\n",
    "    row_count = 0\n",
    "    full_list = []\n",
    "    for row in mat:\n",
    "        if 'N/A' in row:\n",
    "            pass\n",
    "        else:\n",
    "            full_list.append(row_count)\n",
    "\n",
    "        row_count += 1\n",
    "\n",
    "    mat = mat[full_list, :]\n",
    "    return mat"
   ]
  },
  {
   "cell_type": "code",
   "execution_count": 4,
   "metadata": {},
   "outputs": [],
   "source": [
    "def train_test_split(mat):\n",
    "    train_list = []\n",
    "    test_list = []\n",
    "    num_sample, num_var = mat.shape\n",
    "\n",
    "    for i in range(0, num_sample):\n",
    "        if i == 0:\n",
    "            train_list.append(i)\n",
    "            test_list.append(i)\n",
    "        else:\n",
    "            rand = random.random()\n",
    "            if rand >= 0.2:\n",
    "                train_list.append(i)\n",
    "            else:\n",
    "                test_list.append(i)\n",
    "\n",
    "    train_mat = mat[train_list, :]\n",
    "    test_mat = mat[test_list, :]\n",
    "\n",
    "    return train_mat, test_mat"
   ]
  },
  {
   "cell_type": "code",
   "execution_count": 7,
   "metadata": {},
   "outputs": [
    {
     "name": "stdout",
     "output_type": "stream",
     "text": [
      "Reading data is complete! Running time is 51.17492604255676s!\n"
     ]
    }
   ],
   "source": [
    "def main():\n",
    "    # this program is to calculate unemployment daily rate from gallup data\n",
    "    \n",
    "    content_mat = parseFile('CleanedData/gallup_clean_NA_determinant.txt') # no determinant, not filled\n",
    "    num_sample, num_var = content_mat.shape # (3million,47)\n",
    "    rate_feature_list = [6, 16, 21, 26] # sick, employ, age, date\n",
    "    full_list = list(range(0, num_var))\n",
    "\n",
    "    delete_list = list(set(full_list) - set(sentiment_list)) # index of all irrelavant features\n",
    "    content_mat = np.delete(content_mat, delete_list, axis=1) # remove them\n",
    "\n",
    "    content_mat = filter_full_feature(content_mat) # remove rows with missing values\n",
    "\n",
    "    content_pd = pd.DataFrame(content_mat[1:, :], columns=content_mat[0,:]) # convert to pd dataframe\n",
    "\n",
    "    # create tow lists\n",
    "    unique_date = content_pd.intdate.unique() \n",
    "    num_date = unique_date.shape\n",
    "    candidate_list = np.zeros(shape=num_date) # store total # of people with 20<=age<=65 and no sick\n",
    "    unemployed_list = np.zeros(shape=num_date) # store # of people satisfying that condition but not employed\n",
    "\n",
    "    for index, row in content_pd.iterrows():\n",
    "        if int(row['age']) >= 20 and int(row['age']) <= 65 and int(row['healthprob_yes']) == 0:\n",
    "            if int(row['employed']) == 1:\n",
    "                idx = np.nonzero(unique_date == row['intdate'])\n",
    "                candidate_list[idx] += 1\n",
    "            else:\n",
    "                idx = np.nonzero(unique_date == row['intdate'])\n",
    "                candidate_list[idx] += 1\n",
    "                unemployed_list[idx] += 1\n",
    "\n",
    "    unemployed_rate = np.divide(unemployed_list, candidate_list)\n",
    "\n",
    "\n",
    "    daily_employment_df = pd.DataFrame(np.transpose(unemployed_rate), index=np.transpose(unique_date), columns=['unemployed_rate'])\n",
    "    daily_employment_df.to_csv(path_or_buf= 'CleanedData/daily_unemployment.csv')\n",
    "\n",
    "if __name__ == \"__main__\":\n",
    "    main()"
   ]
  },
  {
   "cell_type": "code",
   "execution_count": null,
   "metadata": {},
   "outputs": [],
   "source": []
  }
 ],
 "metadata": {
  "kernelspec": {
   "display_name": "Python 3",
   "language": "python",
   "name": "python3"
  },
  "language_info": {
   "codemirror_mode": {
    "name": "ipython",
    "version": 3
   },
   "file_extension": ".py",
   "mimetype": "text/x-python",
   "name": "python",
   "nbconvert_exporter": "python",
   "pygments_lexer": "ipython3",
   "version": "3.6.4"
  }
 },
 "nbformat": 4,
 "nbformat_minor": 2
}
