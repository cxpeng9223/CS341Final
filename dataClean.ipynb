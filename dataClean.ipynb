{
 "cells": [
  {
   "cell_type": "code",
   "execution_count": 8,
   "metadata": {},
   "outputs": [],
   "source": [
    "import matplotlib.pyplot as plt\n",
    "import numpy as np"
   ]
  },
  {
   "cell_type": "code",
   "execution_count": 9,
   "metadata": {},
   "outputs": [
    {
     "data": {
      "text/plain": [
       "\"\\ntry:\\n   del content_mat\\n   print('Clear previously loaded data.')\\nexcept:\\n   pass\\n\""
      ]
     },
     "execution_count": 9,
     "metadata": {},
     "output_type": "execute_result"
    }
   ],
   "source": [
    "def parseFile(file):\n",
    "    # initialize vari\n",
    "    content = []\n",
    "    count, count_incomplete,count_complete, count_part = 0, 0, 0, 0\n",
    "    cut = 49\n",
    "    \n",
    "    filetoWrite = open(\"gallup_all_complete.txt\",\"w+\")\n",
    "    \n",
    "    with open(file) as txtfile:\n",
    "        for line in txtfile:\n",
    "\n",
    "            line = line.split(',')\n",
    "            line[-1] = line[-1].strip()\n",
    "\n",
    "            if count == 0:\n",
    "                line_cut = line[:cut] + [line[-1]]\n",
    "            else:\n",
    "                line_cut = line[1:cut+1]+ [line[-1]]\n",
    "                \n",
    "            content.append(np.array(line_cut))\n",
    "            count += 1\n",
    "            \n",
    "            filetoWrite.write(\",\".join(line_cut)+\"\\n\")\n",
    "    \n",
    "    filetoWrite.close()\n",
    "    \n",
    "    #print(\"initial content_mat\")\n",
    "    #content_mat = np.array(content)\n",
    "\n",
    "    #print(content_mat[10])\n",
    "\n",
    "    #num_sample, num_vari = content_mat.shape\n",
    "    #print(num_sample)\n",
    "    #print(num_vari)\n",
    "\n",
    "\n",
    "'''\n",
    "with open('gallup_all_nocol8.txt') as txtfile:\n",
    "    for row in txtfile:\n",
    "        row = row.split(',')\n",
    "\n",
    "        content.append(row)\n",
    "\n",
    "        for ele in row[51:len(row) - 1]:\n",
    "            if ele != 'NA' and ele != '\"\"':\n",
    "                # print(row[49])\n",
    "                # print(row[len(row) - 1])\n",
    "                count_part += 1\n",
    "                break\n",
    "\n",
    "        if 'NA' not in row[:51] and '\"\"' not in row[:51]:\n",
    "            count_complete += 1\n",
    "            # print(row)\n",
    "        else:\n",
    "            count_incomplete += 1\n",
    "\n",
    "        # break\n",
    "        # if count_complete + count_incomplete > 100000:\n",
    "        #    break\n",
    "\n",
    "print(\"comple: \", count_complete)\n",
    "print(\"comple_part: \", count_part)\n",
    "print(\"incomple: \", count_incomplete)\n",
    "\n",
    "'''\n",
    "\n",
    "\n",
    "#----------\n",
    "# Cleaning up variables to prevent loading data multiple times (which may cause memory issue)\n",
    "'''\n",
    "try:\n",
    "   del content_mat\n",
    "   print('Clear previously loaded data.')\n",
    "except:\n",
    "   pass\n",
    "'''"
   ]
  },
  {
   "cell_type": "code",
   "execution_count": 10,
   "metadata": {},
   "outputs": [],
   "source": [
    "def main():\n",
    "    path = 'gallup_all_nocol8.txt'\n",
    "    parseFile(path)\n",
    "    '''\n",
    "    filetoWrite = open(\"gallup_all_test.txt\",\"w+\")\n",
    "    filetoWrite.write(\"1,2,3\\n\")\n",
    "    filetoWrite.write(\"4,5,6\")\n",
    "    filetoWrite.close()\n",
    "    '''"
   ]
  },
  {
   "cell_type": "code",
   "execution_count": 11,
   "metadata": {},
   "outputs": [],
   "source": [
    "if __name__ == \"__main__\":\n",
    "    main()"
   ]
  },
  {
   "cell_type": "code",
   "execution_count": null,
   "metadata": {},
   "outputs": [],
   "source": []
  }
 ],
 "metadata": {
  "kernelspec": {
   "display_name": "Python 3",
   "language": "python",
   "name": "python3"
  },
  "language_info": {
   "codemirror_mode": {
    "name": "ipython",
    "version": 3
   },
   "file_extension": ".py",
   "mimetype": "text/x-python",
   "name": "python",
   "nbconvert_exporter": "python",
   "pygments_lexer": "ipython3",
   "version": "3.6.4"
  }
 },
 "nbformat": 4,
 "nbformat_minor": 2
}
