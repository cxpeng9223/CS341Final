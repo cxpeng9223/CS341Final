{
 "cells": [
  {
   "cell_type": "code",
   "execution_count": 1,
   "metadata": {},
   "outputs": [
    {
     "data": {
      "text/plain": [
       "0.75"
      ]
     },
     "execution_count": 1,
     "metadata": {},
     "output_type": "execute_result"
    }
   ],
   "source": [
    "import numpy as np\n",
    "from sklearn.metrics import roc_auc_score\n"
   ]
  },
  {
   "cell_type": "code",
   "execution_count": 2,
   "metadata": {},
   "outputs": [
    {
     "data": {
      "text/plain": [
       "0.75"
      ]
     },
     "execution_count": 2,
     "metadata": {},
     "output_type": "execute_result"
    }
   ],
   "source": [
    "y_true = np.array([0, 0, 1, 1])\n",
    "y_scores = np.array([0.1, 0.4, 0.35, 0.8])\n",
    "roc_auc_score(y_true, y_scores)"
   ]
  },
  {
   "cell_type": "code",
   "execution_count": 34,
   "metadata": {},
   "outputs": [
    {
     "name": "stdout",
     "output_type": "stream",
     "text": [
      "(16384,)\n"
     ]
    },
    {
     "data": {
      "text/plain": [
       "0.8091630899594344"
      ]
     },
     "execution_count": 34,
     "metadata": {},
     "output_type": "execute_result"
    }
   ],
   "source": [
    "def parseFile(file):\n",
    "    content = []\n",
    "    s = []\n",
    "    y = []\n",
    "    with open(file) as txtfile:\n",
    "        for row in txtfile:\n",
    "            row = row.split()\n",
    "#             row[-1] = row[-1].strip()\n",
    "#             print(row)\n",
    "            s_ = float(row[0])\n",
    "            y_ = int(row[1])\n",
    "#             if y_ == 0:\n",
    "#                 s_ = 1 - s_\n",
    "            s.append(s_)\n",
    "            y.append(y_)\n",
    "#             content.append(row)\n",
    "#             break\n",
    "#     content_mat = np.array(content)\n",
    "\n",
    "    return s, y\n",
    "\n",
    "s, y = parseFile('testfile.txt')\n",
    "s = np.array(s)\n",
    "y = np.array(y)\n",
    "print(s.shape)\n",
    "roc_auc_score(y, s)"
   ]
  },
  {
   "cell_type": "code",
   "execution_count": null,
   "metadata": {},
   "outputs": [],
   "source": []
  }
 ],
 "metadata": {
  "kernelspec": {
   "display_name": "Python 3",
   "language": "python",
   "name": "python3"
  },
  "language_info": {
   "codemirror_mode": {
    "name": "ipython",
    "version": 3
   },
   "file_extension": ".py",
   "mimetype": "text/x-python",
   "name": "python",
   "nbconvert_exporter": "python",
   "pygments_lexer": "ipython3",
   "version": "3.6.4"
  }
 },
 "nbformat": 4,
 "nbformat_minor": 2
}
