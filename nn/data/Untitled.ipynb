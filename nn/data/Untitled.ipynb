{
 "cells": [
  {
   "cell_type": "code",
   "execution_count": 50,
   "metadata": {},
   "outputs": [],
   "source": [
    "import argparse\n",
    "from collections import Counter\n",
    "import json\n",
    "import os\n",
    "import random\n",
    "import numpy as np\n",
    "import time\n",
    "import csv"
   ]
  },
  {
   "cell_type": "code",
   "execution_count": 54,
   "metadata": {},
   "outputs": [],
   "source": [
    "def parseFile(file):\n",
    "    count = 0\n",
    "    content = []\n",
    "    time_start = time.time()\n",
    "    with open(file) as txtfile:\n",
    "        for row in txtfile:\n",
    "            count += 1\n",
    "            #if count == 1:\n",
    "            #    continue\n",
    "            row = row.split(',')\n",
    "            row[-1] = row[-1].strip()\n",
    "            #content.append(row[:4]+[row[6]]+[row[13]]+row[21:23]+[row[29]]+[row[33]]+row[47:]) # feature 0-3, 22, 33, label 21\n",
    "            content.append(row)\n",
    "            if count == 100:\n",
    "                break\n",
    "    #content_mat = np.array(content)\n",
    "    \n",
    "    time_end = time.time()\n",
    "    print('Reading data is complete! Running time is ' + str(time_end - time_start) + 's!')\n",
    "    return content"
   ]
  },
  {
   "cell_type": "code",
   "execution_count": 55,
   "metadata": {},
   "outputs": [],
   "source": [
    "def writeFile(mat):\n",
    "    \n",
    "    #with open('test.csv', 'w') as csvfile:\n",
    "        #spamwriter = csv.writer(csvfile, delimiter=' ',\n",
    "                            #quotechar='|', quoting=csv.QUOTE_MINIMAL)\n",
    "        \n",
    "    myFile = open('test.csv', 'w')\n",
    "    with myFile:\n",
    "        writer = csv.writer(myFile)\n",
    "        writer.writerows(mat)\n",
    "    \n",
    "    '''\n",
    "    filetoWrite = open(\"gallup_clean_NA_No_D_coor.csv\", \"w+\")\n",
    "    for line in all_mats[split]:\n",
    "        line = line[5]\n",
    "        filetoWrite.write(\",\".join(line) + \"\\n\")\n",
    "\n",
    "    filetoWrite.close()\n",
    "    '''"
   ]
  },
  {
   "cell_type": "code",
   "execution_count": 56,
   "metadata": {},
   "outputs": [
    {
     "name": "stdout",
     "output_type": "stream",
     "text": [
      "Reading data is complete! Running time is 0.0008859634399414062s!\n"
     ]
    }
   ],
   "source": [
    "\n",
    "def main():\n",
    "    path = 'raw_data/gallup_clean_NA_No_D_coor.txt'\n",
    "    mat = parseFile(path)\n",
    "    #print(mat.shape)\n",
    "    writeFile(mat)\n",
    "    \n",
    "if __name__ == '__main__':\n",
    "    main()\n"
   ]
  },
  {
   "cell_type": "code",
   "execution_count": null,
   "metadata": {},
   "outputs": [],
   "source": []
  }
 ],
 "metadata": {
  "kernelspec": {
   "display_name": "Python 3",
   "language": "python",
   "name": "python3"
  },
  "language_info": {
   "codemirror_mode": {
    "name": "ipython",
    "version": 3
   },
   "file_extension": ".py",
   "mimetype": "text/x-python",
   "name": "python",
   "nbconvert_exporter": "python",
   "pygments_lexer": "ipython3",
   "version": "3.6.4"
  }
 },
 "nbformat": 4,
 "nbformat_minor": 2
}
